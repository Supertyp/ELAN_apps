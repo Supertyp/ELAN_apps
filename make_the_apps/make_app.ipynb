{
 "cells": [
  {
   "cell_type": "code",
   "execution_count": 3,
   "id": "66b43465",
   "metadata": {},
   "outputs": [
    {
     "name": "stdout",
     "output_type": "stream",
     "text": [
      "Requirement already satisfied: pyinstaller in c:\\users\\barth\\anaconda3\\lib\\site-packages (6.11.1)\n",
      "Requirement already satisfied: pywin32-ctypes>=0.2.1 in c:\\users\\barth\\anaconda3\\lib\\site-packages (from pyinstaller) (0.2.3)\n",
      "Requirement already satisfied: pefile!=2024.8.26,>=2022.5.30 in c:\\users\\barth\\anaconda3\\lib\\site-packages (from pyinstaller) (2023.2.7)\n",
      "Requirement already satisfied: pyinstaller-hooks-contrib>=2024.9 in c:\\users\\barth\\anaconda3\\lib\\site-packages (from pyinstaller) (2024.10)\n",
      "Requirement already satisfied: setuptools>=42.0.0 in c:\\users\\barth\\anaconda3\\lib\\site-packages (from pyinstaller) (65.6.3)\n",
      "Requirement already satisfied: altgraph in c:\\users\\barth\\anaconda3\\lib\\site-packages (from pyinstaller) (0.17.4)\n",
      "Requirement already satisfied: packaging>=22.0 in c:\\users\\barth\\anaconda3\\lib\\site-packages (from pyinstaller) (24.2)\n"
     ]
    }
   ],
   "source": [
    "!pip install pyinstaller"
   ]
  },
  {
   "cell_type": "code",
   "execution_count": null,
   "id": "eaffd6ea",
   "metadata": {},
   "outputs": [],
   "source": [
    "# make a exe file for windows\n",
    "!pyinstaller --onefile --windowed --icon=Replacer_icon.ico Replacer_02.py\n",
    "#!pyinstaller --onefile --windowed --icon=file-search.ico Replacer.py"
   ]
  },
  {
   "cell_type": "code",
   "execution_count": 4,
   "id": "fd2db58b",
   "metadata": {},
   "outputs": [
    {
     "name": "stderr",
     "output_type": "stream",
     "text": [
      "3273 INFO: PyInstaller: 6.11.1, contrib hooks: 2024.10\n",
      "3273 INFO: Python: 3.10.9 (conda)\n",
      "3288 INFO: Platform: Windows-10-10.0.26100-SP0\n",
      "3288 INFO: Python environment: C:\\Users\\barth\\anaconda3\n",
      "3288 INFO: wrote C:\\Users\\barth\\gits\\ELAN_apps\\make_the_apps\\Replacer_02.spec\n",
      "3288 INFO: Module search paths (PYTHONPATH):\n",
      "['C:\\\\Users\\\\barth\\\\anaconda3\\\\Scripts\\\\pyinstaller.exe',\n",
      " 'C:\\\\Users\\\\barth\\\\anaconda3\\\\python310.zip',\n",
      " 'C:\\\\Users\\\\barth\\\\anaconda3\\\\DLLs',\n",
      " 'C:\\\\Users\\\\barth\\\\anaconda3\\\\lib',\n",
      " 'C:\\\\Users\\\\barth\\\\anaconda3',\n",
      " 'C:\\\\Users\\\\barth\\\\anaconda3\\\\lib\\\\site-packages',\n",
      " 'C:\\\\Users\\\\barth\\\\anaconda3\\\\lib\\\\site-packages\\\\drawbot-3.130-py3.10.egg',\n",
      " 'C:\\\\Users\\\\barth\\\\anaconda3\\\\lib\\\\site-packages\\\\booleanoperations-0.9.0-py3.10.egg',\n",
      " 'C:\\\\Users\\\\barth\\\\anaconda3\\\\lib\\\\site-packages\\\\fonttools-4.49.0-py3.10-win-amd64.egg',\n",
      " 'C:\\\\Users\\\\barth\\\\anaconda3\\\\lib\\\\site-packages\\\\pyobjc-10.1-py3.10.egg',\n",
      " 'C:\\\\Users\\\\barth\\\\anaconda3\\\\lib\\\\site-packages\\\\pyclipper-1.3.0.post5-py3.10-win-amd64.egg',\n",
      " 'C:\\\\Users\\\\barth\\\\anaconda3\\\\lib\\\\site-packages\\\\pyobjc_framework_pubsub-10.1-py3.10.egg',\n",
      " 'C:\\\\Users\\\\barth\\\\anaconda3\\\\lib\\\\site-packages\\\\win32',\n",
      " 'C:\\\\Users\\\\barth\\\\anaconda3\\\\lib\\\\site-packages\\\\win32\\\\lib',\n",
      " 'C:\\\\Users\\\\barth\\\\anaconda3\\\\lib\\\\site-packages\\\\Pythonwin',\n",
      " 'C:\\\\Users\\\\barth\\\\gits\\\\ELAN_apps\\\\make_the_apps']\n",
      "6815 INFO: checking Analysis\n",
      "6889 INFO: checking PYZ\n",
      "6945 INFO: checking PKG\n",
      "6998 INFO: Bootloader C:\\Users\\barth\\anaconda3\\lib\\site-packages\\PyInstaller\\bootloader\\Windows-64bit-intel\\run.exe\n",
      "6998 INFO: checking EXE\n",
      "7063 INFO: Building because console changed\n",
      "7063 INFO: Building EXE from EXE-00.toc\n",
      "7063 INFO: Copying bootloader EXE to C:\\Users\\barth\\gits\\ELAN_apps\\make_the_apps\\dist\\Replacer_02.exe\n",
      "7186 INFO: Copying icon to EXE\n",
      "7267 INFO: Copying 0 resources to EXE\n",
      "7267 INFO: Embedding manifest in EXE\n",
      "7311 INFO: Appending PKG archive to EXE\n",
      "7311 INFO: Fixing EXE headers\n",
      "8723 INFO: Building EXE from EXE-00.toc completed successfully.\n"
     ]
    }
   ],
   "source": [
    "!pyinstaller --onefile --icon=Replacer_icon.ico Replacer_02.py"
   ]
  },
  {
   "cell_type": "code",
   "execution_count": null,
   "id": "dbc2ac78",
   "metadata": {},
   "outputs": [],
   "source": []
  }
 ],
 "metadata": {
  "kernelspec": {
   "display_name": "Python 3 (ipykernel)",
   "language": "python",
   "name": "python3"
  },
  "language_info": {
   "codemirror_mode": {
    "name": "ipython",
    "version": 3
   },
   "file_extension": ".py",
   "mimetype": "text/x-python",
   "name": "python",
   "nbconvert_exporter": "python",
   "pygments_lexer": "ipython3",
   "version": "3.10.9"
  }
 },
 "nbformat": 4,
 "nbformat_minor": 5
}
