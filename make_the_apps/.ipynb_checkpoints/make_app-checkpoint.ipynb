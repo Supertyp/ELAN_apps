{
 "cells": [
  {
   "cell_type": "code",
   "execution_count": null,
   "id": "66b43465",
   "metadata": {},
   "outputs": [],
   "source": [
    "!pip install pyinstaller"
   ]
  },
  {
   "cell_type": "code",
   "execution_count": null,
   "id": "eaffd6ea",
   "metadata": {},
   "outputs": [],
   "source": [
    "# make a exe file for windows\n",
    "!pyinstaller --onefile --windowed --icon=Replacer_icon.ico Replacer_02.py\n",
    "#!pyinstaller --onefile --windowed --icon=file-search.ico Replacer.py"
   ]
  },
  {
   "cell_type": "code",
   "execution_count": null,
   "id": "fd2db58b",
   "metadata": {},
   "outputs": [],
   "source": [
    "!pyinstaller --onefile --windowed --icon=Replacer_icon.ico Replacer_02.py"
   ]
  }
 ],
 "metadata": {
  "kernelspec": {
   "display_name": "Python 3 (ipykernel)",
   "language": "python",
   "name": "python3"
  },
  "language_info": {
   "codemirror_mode": {
    "name": "ipython",
    "version": 3
   },
   "file_extension": ".py",
   "mimetype": "text/x-python",
   "name": "python",
   "nbconvert_exporter": "python",
   "pygments_lexer": "ipython3",
   "version": "3.10.9"
  }
 },
 "nbformat": 4,
 "nbformat_minor": 5
}
